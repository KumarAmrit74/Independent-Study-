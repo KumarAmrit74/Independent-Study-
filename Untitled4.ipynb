{
 "cells": [
  {
   "cell_type": "code",
   "execution_count": 5,
   "id": "5c290387",
   "metadata": {},
   "outputs": [
    {
     "name": "stderr",
     "output_type": "stream",
     "text": [
      "Unexpected parameter: id\n"
     ]
    },
    {
     "name": "stdout",
     "output_type": "stream",
     "text": [
      "You got this!\n"
     ]
    },
    {
     "name": "stderr",
     "output_type": "stream",
     "text": [
      "Unexpected parameter: id\n",
      "Unexpected parameter: id\n",
      "Unexpected parameter: id\n",
      "Unexpected parameter: id\n"
     ]
    },
    {
     "name": "stdout",
     "output_type": "stream",
     "text": [
      "                                               tweets  likes  \\\n",
      "0   किसानों को लेकर उनके ट्रैक रिकॉर्ड और हमारे का...   6354   \n",
      "1   जीवन सुरक्षित नहीं हो, तो कोई भी सुख-सुविधा कि...   4587   \n",
      "2   मैं उत्तर प्रदेश की माताओं और बहनों का एक विशे...   5356   \n",
      "3   हमारे लिए तिजोरी नहीं, देशवासियों की जिंदगी बह...   6077   \n",
      "4   संत रविदास जी की प्रेरणा से हमारी सरकार की योज...   4252   \n",
      "..                                                ...    ...   \n",
      "95  ਭਾਜਪਾ ਤੇ ਐਨਡੀਏ ਵਾਸਤੇ ਪੰਜਾਬ ਦੀ ਅਹਿਮੀਅਤ ਮਹਿਜ਼ ਸੀ...   6411   \n",
      "96  हमें गर्व के साथ कहना चाहिए कि भारत Mother of ...  31767   \n",
      "97  कोरोना काल में 130 करोड़ देशवासियों के संकल्प ...  13225   \n",
      "98  Being selective about history, only hailing a ...  11172   \n",
      "99  Our actions can’t be determined by where we si...   8466   \n",
      "\n",
      "                        time  \n",
      "0  2022-02-16 14:39:57+00:00  \n",
      "1  2022-02-16 14:39:42+00:00  \n",
      "2  2022-02-16 14:39:24+00:00  \n",
      "3  2022-02-16 14:39:10+00:00  \n",
      "4  2022-02-16 14:38:56+00:00  \n",
      "..                       ...  \n",
      "95 2022-02-08 14:55:24+00:00  \n",
      "96 2022-02-08 14:09:05+00:00  \n",
      "97 2022-02-08 14:08:46+00:00  \n",
      "98 2022-02-08 14:08:23+00:00  \n",
      "99 2022-02-08 14:07:58+00:00  \n",
      "\n",
      "[100 rows x 3 columns]\n"
     ]
    }
   ],
   "source": [
    "import tweepy\n",
    "from tweepy import OAuthHandler\n",
    "import pandas as pd\n",
    "import configparser\n",
    "import twint\n",
    "\n",
    "print(\"You got this!\")\n",
    "\n",
    "access_token ='2412156254-85iAnCTxqvZcdzVVlMQaqMdZTHskUjFSn6tuxUo'\n",
    "access_token_secret ='JLveU7ze2tTkKWavIp2l5SFlNlEeIL8RCB0olFEE4GEPc'\n",
    "consumer_key ='ASrWI31CKJFqbd8Ju3L9cLPzW'\n",
    "consumer_secret ='iDCNlFkzgt7DtPhcYIvzRThL7jr4xTONlzi7QwW7OFAaI9C6F2'\n",
    "#AAAAAAAAAAAAAAAAAAAAAD8rZQEAAAAA%2F9Q7yAcFhCq1EMwk3%2BnYZT1PP%2Fo%3DDdL2mKFmUaAFKuV5rJ20rKydjN5keKQLVpe7jPBV8acXYLCYqP\n",
    "auth = tweepy.OAuthHandler(consumer_key, consumer_secret)\n",
    "auth.set_access_token(access_token, access_token_secret)\n",
    "API = tweepy.API(auth)\n",
    "\"\"\"\n",
    "cursor=tweepy.Cursor(api.search, q= \"covid-19\", tweet_mode=\"extended\").items(1)\n",
    "for i in cursor:\n",
    "    print(i.full_text)\n",
    "    API.user_timeline\n",
    "\"\"\"\n",
    "no_of_tweets = 100\n",
    "tweets =[]\n",
    "like =[]\n",
    "time=[]\n",
    "for i in tweepy.Cursor(API.user_timeline, id  =  \"narendramodi\", tweet_mode=\"extended\").items(no_of_tweets):\n",
    "    tweets.append(i.full_text)\n",
    "    like.append(i.favorite_count)\n",
    "    time.append(i.created_at)\n",
    "df = pd.DataFrame({'tweets':tweets,'likes':like,'time':time})\n",
    "print(df)"
   ]
  },
  {
   "cell_type": "code",
   "execution_count": null,
   "id": "d5e31043",
   "metadata": {},
   "outputs": [],
   "source": []
  }
 ],
 "metadata": {
  "kernelspec": {
   "display_name": "Python 3 (ipykernel)",
   "language": "python",
   "name": "python3"
  },
  "language_info": {
   "codemirror_mode": {
    "name": "ipython",
    "version": 3
   },
   "file_extension": ".py",
   "mimetype": "text/x-python",
   "name": "python",
   "nbconvert_exporter": "python",
   "pygments_lexer": "ipython3",
   "version": "3.9.7"
  }
 },
 "nbformat": 4,
 "nbformat_minor": 5
}

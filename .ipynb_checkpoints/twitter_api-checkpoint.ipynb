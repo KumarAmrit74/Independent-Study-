{
 "cells": [
  {
   "cell_type": "code",
   "execution_count": 28,
   "id": "5b0a7997",
   "metadata": {},
   "outputs": [],
   "source": [
    "import tweepy\n",
    "from tweepy import OAuthHandler\n",
    "import pandas\n",
    "import configparser\n"
   ]
  },
  {
   "cell_type": "code",
   "execution_count": 45,
   "id": "9793f35c",
   "metadata": {},
   "outputs": [],
   "source": [
    "%run ./Authentication.ipynb"
   ]
  },
  {
   "cell_type": "code",
   "execution_count": 46,
   "id": "b55e0347",
   "metadata": {},
   "outputs": [],
   "source": [
    "auth = tweepy.OAuthHandler(consumer_key, consumer_secret)\n",
    "auth.set_access_token(access_token, access_token_secret)\n",
    "api = tweepy.API(auth)"
   ]
  },
  {
   "cell_type": "code",
   "execution_count": 47,
   "id": "7306a4d5",
   "metadata": {},
   "outputs": [],
   "source": [
    "cursor=tweepy.Cursor(api.user_timeline, user_id= 'realDonaldTrump', tweet_mode='extended').items(1)"
   ]
  },
  {
   "cell_type": "code",
   "execution_count": 49,
   "id": "723c24ac",
   "metadata": {},
   "outputs": [],
   "source": [
    "for i in cursor:\n",
    "    print(i)"
   ]
  },
  {
   "cell_type": "code",
   "execution_count": null,
   "id": "ac43bc3b",
   "metadata": {},
   "outputs": [],
   "source": []
  }
 ],
 "metadata": {
  "kernelspec": {
   "display_name": "Python 3 (ipykernel)",
   "language": "python",
   "name": "python3"
  },
  "language_info": {
   "codemirror_mode": {
    "name": "ipython",
    "version": 3
   },
   "file_extension": ".py",
   "mimetype": "text/x-python",
   "name": "python",
   "nbconvert_exporter": "python",
   "pygments_lexer": "ipython3",
   "version": "3.9.7"
  }
 },
 "nbformat": 4,
 "nbformat_minor": 5
}

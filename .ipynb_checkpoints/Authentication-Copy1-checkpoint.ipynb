{
 "cells": [
  {
   "cell_type": "markdown",
   "id": "03f0ceb8",
   "metadata": {},
   "source": [
    "# Advancing HealthCare using Social Media Analysis"
   ]
  },
  {
   "cell_type": "code",
   "execution_count": 4,
   "id": "6d7dec4f",
   "metadata": {
    "scrolled": true
   },
   "outputs": [
    {
     "name": "stdout",
     "output_type": "stream",
     "text": [
      "                user                       location  \\\n",
      "0          utada0511                          Japan   \n",
      "1    DelwennA_Ocean8                   ♥️ FRANCE 🇫🇷   \n",
      "2     bloggingbeesrt                 Wisconsin, USA   \n",
      "3      shutterhub123                                  \n",
      "4         workingbnb  My Home or anywhere who cares   \n",
      "..               ...                            ...   \n",
      "395     matt_lfc1984                                  \n",
      "396          pup2dog                                  \n",
      "397          pup2dog                                  \n",
      "398       AmyWBryant                  Nashville, TN   \n",
      "399         ybnormyl                                  \n",
      "\n",
      "                                                 tweet  likes   RT  \\\n",
      "0    RT @OPHELIANNE1: 💕💕💕💕💕💕💕💕💕Happy Spring dear Fr...      0  760   \n",
      "1    RT @OPHELIANNE1: 💕💕💕💕💕💕💕💕💕Happy Spring dear Fr...      0  760   \n",
      "2    RT @TiredNTenacious: @bloggingbeesrt @sunburnt...      0    1   \n",
      "3    RT @pup2dog: Canine Carry Steak Flavor Snacks ...      0    2   \n",
      "4    RT @Printifyaffil: Looking for a new adventure...      0    1   \n",
      "..                                                 ...    ...  ...   \n",
      "395  @RobertBarnes542 I wear one 24 hrs a day. In t...      0    0   \n",
      "396  Cadet Triple Treats Potato Chicken - Treats ==...      4    0   \n",
      "397  Callies Kitchen SuperMix Recipe Healthy - Trea...      4    0   \n",
      "398  RT @EskenaziHealth: Even though #Indy is under...      0    2   \n",
      "399  Fourth vaccine dose https://t.co/rTGI554Zh3 vi...      0    0   \n",
      "\n",
      "                  Source                   ID                      Date  \n",
      "0     Twitter for iPhone  1507864422043484160 2022-03-26 23:37:47+00:00  \n",
      "1     Twitter for iPhone  1507861610228031492 2022-03-26 23:26:37+00:00  \n",
      "2       Twitter for iPad  1507850224009629706 2022-03-26 22:41:22+00:00  \n",
      "3          purdymeez 333  1507848888346152972 2022-03-26 22:36:04+00:00  \n",
      "4                 sonnyy  1507836411491373059 2022-03-26 21:46:29+00:00  \n",
      "..                   ...                  ...                       ...  \n",
      "395  Twitter for Android  1506388156169560068 2022-03-22 21:51:38+00:00  \n",
      "396            p2dog app  1506377430155640847 2022-03-22 21:09:01+00:00  \n",
      "397            p2dog app  1506366088724029440 2022-03-22 20:23:57+00:00  \n",
      "398     Twitter for iPad  1506363059568357380 2022-03-22 20:11:54+00:00  \n",
      "399      Twitter Web App  1506358221371551753 2022-03-22 19:52:41+00:00  \n",
      "\n",
      "[400 rows x 8 columns]\n"
     ]
    }
   ],
   "source": [
    "# importing required libraries\n",
    "import os\n",
    "import tweepy as tw\n",
    "import pandas as pd\n",
    "import numpy as np\n",
    "import datetime\n",
    "import GetOldTweets3 as got\n",
    "\n",
    "\n",
    "access_token ='2412156254-85iAnCTxqvZcdzVVlMQaqMdZTHskUjFSn6tuxUo' #API KEY\n",
    "access_token_secret ='JLveU7ze2tTkKWavIp2l5SFlNlEeIL8RCB0olFEE4GEPc' # API KEY SECRET\n",
    "consumer_key ='ASrWI31CKJFqbd8Ju3L9cLPzW' #Acess token\n",
    "consumer_secret ='iDCNlFkzgt7DtPhcYIvzRThL7jr4xTONlzi7QwW7OFAaI9C6F2' # Acces token secret\n",
    "#AAAAAAAAAAAAAAAAAAAAAD8rZQEAAAAA%2F9Q7yAcFhCq1EMwk3%2BnYZT1PP%2Fo%3DDdL2mKFmUaAFKuV5rJ20rKydjN5keKQLVpe7jPBV8acXYLCYqP\n",
    "\n",
    "auth = tw.OAuthHandler(consumer_key, consumer_secret)\n",
    "auth.set_access_token(access_token, access_token_secret)\n",
    "api = tw.API(auth, wait_on_rate_limit=True)\n",
    "\n",
    "search_words = \"#covid19\" # Using the key words such as vaccination,masks,quarantine,and cdc,extract the tweets\n",
    "date_since = \"2021-01-01\" \n",
    "until_date =\"2021-12-31\"\n",
    "today = datetime.date(2021,1,1)\n",
    "yesterday= today - datetime.timedelta(days=365)\n",
    "\n",
    "# Collect tweets\n",
    "tweets = tw.Cursor(api.search_tweets,\n",
    "              q=\"#stayathome  since:\"+str(until_date)+\"until:\" + str(today), # key words - covid,covid-19,stayathome,coronavirus\n",
    "              lang=\"en\",\n",
    "              since_id= date_since).items(400)\n",
    "\n",
    "#tweetCriteria = got.manager.TweetCriteria().setQuerySearch('europe refugees').setSince(\"2020-01-01\").setUntil(\"2021-12-30\").setMaxTweets(100)\n",
    "#tweet = got.manager.TweetManager.getTweets(tweetCriteria)[100] \n",
    "#print (tweet.text)\n",
    "\n",
    "\n",
    "# Iterate and print tweets\n",
    "\n",
    "\n",
    "users_locs = [[tweet.user.screen_name, tweet.user.location,tweet.text, tweet.favorite_count,tweet.retweet_count,tweet.source,tweet.id,tweet.created_at] for tweet in tweets]\n",
    "\n",
    "tweet_text = pd.DataFrame(data=users_locs,\n",
    "                    columns=['user', 'location','tweet','likes','RT','Source','ID','Date'])\n",
    "#Output_data=tweet_text[tweet_text['likes']> 20]\n",
    "#print(Output_data.head(3))\n",
    "print(tweet_text)\n",
    "#print(tweets)\n",
    "tweet_text.to_csv(\"Tweets8.csv\",index=False) #Printing tweets to a CSV file\n"
   ]
  },
  {
   "cell_type": "code",
   "execution_count": null,
   "id": "d1f20553",
   "metadata": {},
   "outputs": [],
   "source": []
  },
  {
   "cell_type": "code",
   "execution_count": null,
   "id": "ab430ce0",
   "metadata": {},
   "outputs": [],
   "source": []
  },
  {
   "cell_type": "code",
   "execution_count": null,
   "id": "23dc387d",
   "metadata": {},
   "outputs": [],
   "source": []
  }
 ],
 "metadata": {
  "kernelspec": {
   "display_name": "Python 3 (ipykernel)",
   "language": "python",
   "name": "python3"
  },
  "language_info": {
   "codemirror_mode": {
    "name": "ipython",
    "version": 3
   },
   "file_extension": ".py",
   "mimetype": "text/x-python",
   "name": "python",
   "nbconvert_exporter": "python",
   "pygments_lexer": "ipython3",
   "version": "3.9.7"
  }
 },
 "nbformat": 4,
 "nbformat_minor": 5
}

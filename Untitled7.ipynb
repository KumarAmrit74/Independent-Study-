{
 "cells": [
  {
   "cell_type": "code",
   "execution_count": null,
   "id": "634a2bd9",
   "metadata": {},
   "outputs": [],
   "source": [
    "# importing required libraries\n",
    "import os\n",
    "import tweepy as tw\n",
    "import pandas as pd\n",
    "import numpy as np\n",
    "import datetime\n",
    "import GetOldTweets3 as got\n",
    "\n",
    "\n",
    "%run auth.py # running python code for authentication with twitter \n",
    "\n",
    "#AAAAAAAAAAAAAAAAAAAAAD8rZQEAAAAA%2F9Q7yAcFhCq1EMwk3%2BnYZT1PP%2Fo%3DDdL2mKFmUaAFKuV5rJ20rKydjN5keKQLVpe7jPBV8acXYLCYqP\n",
    "\n",
    "auth = tw.OAuthHandler(consumer_key, consumer_secret)\n",
    "auth.set_access_token(access_token, access_token_secret)\n",
    "api = tw.API(auth, wait_on_rate_limit=True)\n",
    "\n",
    "search_words = \"#covid19\" # Using the key words such as vaccination,masks,quarantine,and cdc,extract the tweets\n",
    "date_since = \"2021-01-01\" \n",
    "until_date =\"2021-12-31\"\n",
    "today = datetime.date(2021,1,1)\n",
    "yesterday= today - datetime.timedelta(days=365)\n",
    "\n",
    "# Collect tweets\n",
    "tweets = tw.Cursor(api.search_tweets,\n",
    "              q=\"#stayathome  since:\"+str(until_date)+\"until:\" + str(today), # key words - covid,covid-19,stayathome,coronavirus\n",
    "              lang=\"en\",\n",
    "              since_id= date_since).items(400)\n",
    "\n",
    "#tweetCriteria = got.manager.TweetCriteria().setQuerySearch('europe refugees').setSince(\"2020-01-01\").setUntil(\"2021-12-30\").setMaxTweets(100)\n",
    "#tweet = got.manager.TweetManager.getTweets(tweetCriteria)[100] \n",
    "#print (tweet.text)\n",
    "\n",
    "\n",
    "# Iterate and print tweets\n",
    "\n",
    "\n",
    "users_locs = [[tweet.user.screen_name, tweet.user.location,tweet.text, tweet.favorite_count,tweet.retweet_count,tweet.source,tweet.id,tweet.created_at] for tweet in tweets]\n",
    "\n",
    "tweet_text = pd.DataFrame(data=users_locs,\n",
    "                    columns=['user', 'location','tweet','likes','RT','Source','ID','Date'])\n",
    "#Output_data=tweet_text[tweet_text['likes']> 20]\n",
    "#print(Output_data.head(3))\n",
    "print(tweet_text)\n",
    "#print(tweets)\n",
    "tweet_text.to_csv(\"Tweets8.csv\",index=False) #Printing tweets to a CSV file\n"
   ]
  }
 ],
 "metadata": {
  "kernelspec": {
   "display_name": "Python 3 (ipykernel)",
   "language": "python",
   "name": "python3"
  },
  "language_info": {
   "codemirror_mode": {
    "name": "ipython",
    "version": 3
   },
   "file_extension": ".py",
   "mimetype": "text/x-python",
   "name": "python",
   "nbconvert_exporter": "python",
   "pygments_lexer": "ipython3",
   "version": "3.9.7"
  }
 },
 "nbformat": 4,
 "nbformat_minor": 5
}

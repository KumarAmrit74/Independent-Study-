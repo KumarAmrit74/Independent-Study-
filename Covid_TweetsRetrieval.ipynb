{
 "cells": [
  {
   "cell_type": "markdown",
   "id": "2ad99e71",
   "metadata": {},
   "source": [
    "# Advancing HealthCare using Social Media Analysis"
   ]
  },
  {
   "cell_type": "code",
   "execution_count": 2,
   "id": "6d7dec4f",
   "metadata": {
    "scrolled": true
   },
   "outputs": [
    {
     "name": "stdout",
     "output_type": "stream",
     "text": [
      "                user                   location  \\\n",
      "0     AusNewsNetwork                  Australia   \n",
      "1             citymb  Manhattan Beach, CA 90266   \n",
      "2      TeleGeography                              \n",
      "3           biospace             Des Moines, IA   \n",
      "4       AnfieldWatch             United Kingdom   \n",
      "..               ...                        ...   \n",
      "995          AATPeak           Philadelphia, PA   \n",
      "996    Beachbumjules                     Utopia   \n",
      "997        PplFuture                              \n",
      "998        HamsonNed                              \n",
      "999  9sarahrodriguez                bric-a-brac   \n",
      "\n",
      "                                                 tweet  likes   RT  \\\n",
      "0    RT @AusHCVanuatu: Workplaces remain closed oth...      0    1   \n",
      "1    COVID-19 Daily Update:\\nMarch 11, 2022\\nManhat...      0    0   \n",
      "2    New intel allowed us to assess how COVID-19—pa...      0    0   \n",
      "3    The death toll related to COVID-19 is more tha...      0    0   \n",
      "4    🚨 NEW: Liverpool have some issues with COVID-1...      0    0   \n",
      "..                                                 ...    ...  ...   \n",
      "995  Unfortunately my Mom has Tested Positive for C...      2    0   \n",
      "996  RT @DempseyTwo: Do you see now how anti-masker...      0    6   \n",
      "997  RT @tomgrundy: Hong Kong’s Hospital Authority ...      0  860   \n",
      "998  New CDC data shows COVID-19 vaccine protects k...      0    0   \n",
      "999  RT @NatGeo: Here’s what scientists have uncove...      0   50   \n",
      "\n",
      "                  Source                   ID                      Date  \n",
      "0     Twitter for iPhone  1502451057401556997 2022-03-12 01:07:00+00:00  \n",
      "1        Twitter Web App  1502451053710622721 2022-03-12 01:07:00+00:00  \n",
      "2                HubSpot  1502451053157040129 2022-03-12 01:06:59+00:00  \n",
      "3                HubSpot  1502451053136072707 2022-03-12 01:06:59+00:00  \n",
      "4        Twitter Web App  1502451051546517505 2022-03-12 01:06:59+00:00  \n",
      "..                   ...                  ...                       ...  \n",
      "995  Twitter for Android  1502447254921175042 2022-03-12 00:51:54+00:00  \n",
      "996  Twitter for Android  1502447251414827012 2022-03-12 00:51:53+00:00  \n",
      "997  Twitter for Android  1502447249041027079 2022-03-12 00:51:52+00:00  \n",
      "998        WordPress.com  1502447246692036609 2022-03-12 00:51:52+00:00  \n",
      "999      Twitter Web App  1502447244942917632 2022-03-12 00:51:51+00:00  \n",
      "\n",
      "[1000 rows x 8 columns]\n"
     ]
    }
   ],
   "source": [
    "# importing required libraries\n",
    "import os\n",
    "import tweepy as tw\n",
    "import pandas as pd\n",
    "import numpy as np\n",
    "import datetime\n",
    "import GetOldTweets3 as got\n",
    "\n",
    "\n",
    "access_token ='API KEY' #API KEY\n",
    "access_token_secret ='API KEY SECRET' # API KEY SECRET\n",
    "consumer_key ='Acess token' #Acess token\n",
    "consumer_secret ='Acces token secret' # Acces token secret\n",
    "#AAAAAAAAAAAAAAAAAAAAAD8rZQEAAAAA%2F9Q7yAcFhCq1EMwk3%2BnYZT1PP%2Fo%3DDdL2mKFmUaAFKuV5rJ20rKydjN5keKQLVpe7jPBV8acXYLCYqP\n",
    "\n",
    "auth = tw.OAuthHandler(consumer_key, consumer_secret)\n",
    "auth.set_access_token(access_token, access_token_secret)\n",
    "api = tw.API(auth, wait_on_rate_limit=True)\n",
    "\n",
    "search_words = \"#covid19\" # Using the key words such as vaccination,masks,quarantine,and cdc,extract the tweets\n",
    "date_since = \"2021-01-01\" \n",
    "until_date =\"2021-12-31\"\n",
    "today = datetime.date(2021,1,1)\n",
    "yesterday= today - datetime.timedelta(days=365)\n",
    "\n",
    "# Collect tweets\n",
    "tweets = tw.Cursor(api.search_tweets,\n",
    "              q=\"#Covid-19 since:\"+str(until_date)+\"until:\" + str(today),\n",
    "              lang=\"en\",\n",
    "              since_id= date_since).items(1000)\n",
    "\n",
    "#tweetCriteria = got.manager.TweetCriteria().setQuerySearch('europe refugees').setSince(\"2020-01-01\").setUntil(\"2021-12-30\").setMaxTweets(100)\n",
    "#tweet = got.manager.TweetManager.getTweets(tweetCriteria)[100] \n",
    "#print (tweet.text)\n",
    "\n",
    "\n",
    "# Iterate and print tweets\n",
    "\n",
    "\n",
    "users_locs = [[tweet.user.screen_name, tweet.user.location,tweet.text, tweet.favorite_count,tweet.retweet_count,tweet.source,tweet.id,tweet.created_at] for tweet in tweets]\n",
    "\n",
    "tweet_text = pd.DataFrame(data=users_locs,\n",
    "                    columns=['user', 'location','tweet','likes','RT','Source','ID','Date'])\n",
    "#Output_data=tweet_text[tweet_text['likes']> 20]\n",
    "#print(Output_data.head(3))\n",
    "print(tweet_text)\n",
    "#print(tweets)\n",
    "tweet_text.to_csv(\"Tweets.csv\",index=False) #Printing tweets to a CSV file\n"
   ]
  },
  {
   "cell_type": "code",
   "execution_count": null,
   "id": "29a8ddf5",
   "metadata": {},
   "outputs": [],
   "source": []
  },
  {
   "cell_type": "code",
   "execution_count": null,
   "id": "7e6ea836",
   "metadata": {},
   "outputs": [],
   "source": []
  },
  {
   "cell_type": "code",
   "execution_count": null,
   "id": "23dc387d",
   "metadata": {},
   "outputs": [],
   "source": []
  }
 ],
 "metadata": {
  "kernelspec": {
   "display_name": "Python 3 (ipykernel)",
   "language": "python",
   "name": "python3"
  },
  "language_info": {
   "codemirror_mode": {
    "name": "ipython",
    "version": 3
   },
   "file_extension": ".py",
   "mimetype": "text/x-python",
   "name": "python",
   "nbconvert_exporter": "python",
   "pygments_lexer": "ipython3",
   "version": "3.9.7"
  }
 },
 "nbformat": 4,
 "nbformat_minor": 5
}

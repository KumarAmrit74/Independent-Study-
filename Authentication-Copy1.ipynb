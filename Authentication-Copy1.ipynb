{
 "cells": [
  {
   "cell_type": "markdown",
   "id": "03f0ceb8",
   "metadata": {},
   "source": [
    "# Advancing HealthCare using Social Media Analysis"
   ]
  },
  {
   "cell_type": "code",
   "execution_count": 1,
   "id": "6d7dec4f",
   "metadata": {
    "scrolled": true
   },
   "outputs": [
    {
     "name": "stdout",
     "output_type": "stream",
     "text": [
      "                user        location  \\\n",
      "0    EarthWizardInfo             USA   \n",
      "1            pup2dog                   \n",
      "2            pup2dog                   \n",
      "3      Manifattura40             Web   \n",
      "4          dwoodru11                   \n",
      "..               ...             ...   \n",
      "395  EarthWizardInfo             USA   \n",
      "396   fabianwilliams  Washington, DC   \n",
      "397      mydrones123                   \n",
      "398  EarthWizardInfo             USA   \n",
      "399       webocrazia                   \n",
      "\n",
      "                                                 tweet  likes  RT  \\\n",
      "0    receive valuable home organizing tips - find o...      0   0   \n",
      "1    Claudias Canine Bakery Reindeer Wonderland - T...      2   0   \n",
      "2    ClaudiaS Canine Cuisine 24 Piece Sprinkles - T...      1   0   \n",
      "3    RT @dwoodru11: Enzolytics is the solution! #co...      0   1   \n",
      "4    Enzolytics is the solution! #covid #coronaviru...      1   1   \n",
      "..                                                 ...    ...  ..   \n",
      "395  master the clutter! - learn effective ways to ...      0   0   \n",
      "396  👋Ive gotten some questions &amp; feedback on m...      1   1   \n",
      "397  RT @pup2dog: Charlee Bear 840235168553 Treats ...      0   1   \n",
      "398  stuff accumulates, learn to efficiently organi...      0   0   \n",
      "399  @RussianEmbassyC @mod_russia @mfa_russia @Russ...      0   0   \n",
      "\n",
      "                              Source                   ID  \\\n",
      "0    access api from my account only  1509358268627529740   \n",
      "1                          p2dog app  1509355840603660290   \n",
      "2                          p2dog app  1509344472471121926   \n",
      "3                Twitter Bot 2020_87  1509342957975097351   \n",
      "4                 Twitter for iPhone  1509342710276272129   \n",
      "..                               ...                  ...   \n",
      "395  access api from my account only  1507475372690055172   \n",
      "396                  Twitter Web App  1507471452370612230   \n",
      "397                    purdymeez 333  1507471398633017350   \n",
      "398  access api from my account only  1507466659665448963   \n",
      "399               Twitter for iPhone  1507466262666006531   \n",
      "\n",
      "                         Date  \n",
      "0   2022-03-31 02:33:48+00:00  \n",
      "1   2022-03-31 02:24:09+00:00  \n",
      "2   2022-03-31 01:38:59+00:00  \n",
      "3   2022-03-31 01:32:58+00:00  \n",
      "4   2022-03-31 01:31:59+00:00  \n",
      "..                        ...  \n",
      "395 2022-03-25 21:51:51+00:00  \n",
      "396 2022-03-25 21:36:16+00:00  \n",
      "397 2022-03-25 21:36:03+00:00  \n",
      "398 2022-03-25 21:17:13+00:00  \n",
      "399 2022-03-25 21:15:39+00:00  \n",
      "\n",
      "[400 rows x 8 columns]\n"
     ]
    }
   ],
   "source": [
    "# importing required libraries\n",
    "import os\n",
    "import tweepy as tw\n",
    "import pandas as pd\n",
    "import numpy as np\n",
    "import datetime\n",
    "import GetOldTweets3 as got\n",
    "\n",
    "\n",
    "access_token ='2412156254-85iAnCTxqvZcdzVVlMQaqMdZTHskUjFSn6tuxUo' #API KEY\n",
    "access_token_secret ='JLveU7ze2tTkKWavIp2l5SFlNlEeIL8RCB0olFEE4GEPc' # API KEY SECRET\n",
    "consumer_key ='ASrWI31CKJFqbd8Ju3L9cLPzW' #Acess token\n",
    "consumer_secret ='iDCNlFkzgt7DtPhcYIvzRThL7jr4xTONlzi7QwW7OFAaI9C6F2' # Acces token secret\n",
    "#AAAAAAAAAAAAAAAAAAAAAD8rZQEAAAAA%2F9Q7yAcFhCq1EMwk3%2BnYZT1PP%2Fo%3DDdL2mKFmUaAFKuV5rJ20rKydjN5keKQLVpe7jPBV8acXYLCYqP\n",
    "\n",
    "auth = tw.OAuthHandler(consumer_key, consumer_secret)\n",
    "auth.set_access_token(access_token, access_token_secret)\n",
    "api = tw.API(auth, wait_on_rate_limit=True)\n",
    "\n",
    "search_words = \"#covid19\" # Using the key words such as vaccination,masks,quarantine,and cdc,extract the tweets\n",
    "date_since = \"2021-01-01\" \n",
    "until_date =\"2021-12-31\"\n",
    "today = datetime.date(2021,1,1)\n",
    "yesterday= today - datetime.timedelta(days=365)\n",
    "\n",
    "# Collect tweets\n",
    "tweets = tw.Cursor(api.search_tweets,\n",
    "              q=\"#stayathome  since:\"+str(until_date)+\"until:\" + str(today), # key words - covid,covid-19,stayathome,coronavirus\n",
    "              lang=\"en\",\n",
    "              since_id= date_since).items(400)\n",
    "\n",
    "#tweetCriteria = got.manager.TweetCriteria().setQuerySearch('europe refugees').setSince(\"2020-01-01\").setUntil(\"2021-12-30\").setMaxTweets(100)\n",
    "#tweet = got.manager.TweetManager.getTweets(tweetCriteria)[100] \n",
    "#print (tweet.text)\n",
    "\n",
    "\n",
    "# Iterate and print tweets\n",
    "\n",
    "\n",
    "users_locs = [[tweet.user.screen_name, tweet.user.location,tweet.text, tweet.favorite_count,tweet.retweet_count,tweet.source,tweet.id,tweet.created_at] for tweet in tweets]\n",
    "\n",
    "tweet_text = pd.DataFrame(data=users_locs,\n",
    "                    columns=['user', 'location','tweet','likes','RT','Source','ID','Date'])\n",
    "#Output_data=tweet_text[tweet_text['likes']> 20]\n",
    "#print(Output_data.head(3))\n",
    "print(tweet_text)\n",
    "#print(tweets)\n",
    "tweet_text.to_csv(\"Tweets8.csv\",index=False) #Printing tweets to a CSV file\n"
   ]
  },
  {
   "cell_type": "code",
   "execution_count": null,
   "id": "d1f20553",
   "metadata": {},
   "outputs": [],
   "source": []
  },
  {
   "cell_type": "code",
   "execution_count": null,
   "id": "ab430ce0",
   "metadata": {},
   "outputs": [],
   "source": []
  },
  {
   "cell_type": "code",
   "execution_count": null,
   "id": "23dc387d",
   "metadata": {},
   "outputs": [],
   "source": []
  }
 ],
 "metadata": {
  "kernelspec": {
   "display_name": "Python 3 (ipykernel)",
   "language": "python",
   "name": "python3"
  },
  "language_info": {
   "codemirror_mode": {
    "name": "ipython",
    "version": 3
   },
   "file_extension": ".py",
   "mimetype": "text/x-python",
   "name": "python",
   "nbconvert_exporter": "python",
   "pygments_lexer": "ipython3",
   "version": "3.9.7"
  }
 },
 "nbformat": 4,
 "nbformat_minor": 5
}

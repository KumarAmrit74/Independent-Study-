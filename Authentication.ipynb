{
 "cells": [
  {
   "cell_type": "code",
   "execution_count": 2,
   "id": "6d7dec4f",
   "metadata": {},
   "outputs": [
    {
     "name": "stdout",
     "output_type": "stream",
     "text": [
      "                user                location\n",
      "0     PullanTrustees  Wolverhampton, England\n",
      "1          mitch9034         Ontario, Canada\n",
      "2     njoyflyfishing         Los Angeles, CA\n",
      "3        Transpl_Int                        \n",
      "4      scamp43893323                        \n",
      "..               ...                     ...\n",
      "995  ConeyIslandHosp            Brooklyn, NY\n",
      "996  NYCHealthSystem            New York, NY\n",
      "997          d_tippi       Plymouth, England\n",
      "998       ACROhealth          Washington, DC\n",
      "999          Bffjtwr                        \n",
      "\n",
      "[1000 rows x 2 columns]\n",
      "<tweepy.cursor.ItemIterator object at 0x000001B6B5CC3520>\n"
     ]
    },
    {
     "ename": "AttributeError",
     "evalue": "'ItemIterator' object has no attribute 'to_csv'",
     "output_type": "error",
     "traceback": [
      "\u001b[1;31m---------------------------------------------------------------------------\u001b[0m",
      "\u001b[1;31mAttributeError\u001b[0m                            Traceback (most recent call last)",
      "\u001b[1;32m~\\AppData\\Local\\Temp/ipykernel_19556/713991820.py\u001b[0m in \u001b[0;36m<module>\u001b[1;34m\u001b[0m\n\u001b[0;32m     33\u001b[0m \u001b[0mprint\u001b[0m\u001b[1;33m(\u001b[0m\u001b[0mtweet_text\u001b[0m\u001b[1;33m)\u001b[0m\u001b[1;33m\u001b[0m\u001b[1;33m\u001b[0m\u001b[0m\n\u001b[0;32m     34\u001b[0m \u001b[0mprint\u001b[0m\u001b[1;33m(\u001b[0m\u001b[0mtweets\u001b[0m\u001b[1;33m)\u001b[0m\u001b[1;33m\u001b[0m\u001b[1;33m\u001b[0m\u001b[0m\n\u001b[1;32m---> 35\u001b[1;33m \u001b[0mtweets\u001b[0m\u001b[1;33m.\u001b[0m\u001b[0mto_csv\u001b[0m\u001b[1;33m(\u001b[0m\u001b[1;34m\"Tweets2.csv\"\u001b[0m\u001b[1;33m,\u001b[0m\u001b[0mindex\u001b[0m\u001b[1;33m=\u001b[0m\u001b[1;32mFalse\u001b[0m\u001b[1;33m)\u001b[0m \u001b[1;31m#Printing tweets to a CSV file\u001b[0m\u001b[1;33m\u001b[0m\u001b[1;33m\u001b[0m\u001b[0m\n\u001b[0m\u001b[0;32m     36\u001b[0m \u001b[1;33m\u001b[0m\u001b[0m\n",
      "\u001b[1;31mAttributeError\u001b[0m: 'ItemIterator' object has no attribute 'to_csv'"
     ]
    }
   ],
   "source": [
    "import os\n",
    "import tweepy as tw\n",
    "import pandas as pd\n",
    "import numpy as np\n",
    "import datetime\n",
    "\n",
    "access_token ='2412156254-85iAnCTxqvZcdzVVlMQaqMdZTHskUjFSn6tuxUo'\n",
    "access_token_secret ='JLveU7ze2tTkKWavIp2l5SFlNlEeIL8RCB0olFEE4GEPc'\n",
    "consumer_key ='ASrWI31CKJFqbd8Ju3L9cLPzW'\n",
    "consumer_secret ='iDCNlFkzgt7DtPhcYIvzRThL7jr4xTONlzi7QwW7OFAaI9C6F2'\n",
    "#AAAAAAAAAAAAAAAAAAAAAD8rZQEAAAAA%2F9Q7yAcFhCq1EMwk3%2BnYZT1PP%2Fo%3DDdL2mKFmUaAFKuV5rJ20rKydjN5keKQLVpe7jPBV8acXYLCYqP\n",
    "\n",
    "auth = tw.OAuthHandler(consumer_key, consumer_secret)\n",
    "auth.set_access_token(access_token, access_token_secret)\n",
    "api = tw.API(auth, wait_on_rate_limit=True)\n",
    "\n",
    "search_words = \"#covid19\"\n",
    "date_since = \"2022-01-01\"\n",
    "\n",
    "# Collect tweets\n",
    "tweets = tw.Cursor(api.search_tweets,\n",
    "              q=search_words,\n",
    "              lang=\"en\",\n",
    "              since_id=date_since).items(1000)\n",
    "\n",
    "# Iterate and print tweets\n",
    "\n",
    "\n",
    "users_locs = [[tweet.user.screen_name, tweet.user.location] for tweet in tweets]\n",
    "\n",
    "tweet_text = pd.DataFrame(data=users_locs,\n",
    "                    columns=['user', 'location'])\n",
    "print(tweet_text)\n",
    "print(tweets)\n",
    "tweets.to_csv(\"Tweets2.csv\",index=False) #Printing tweets to a CSV file\n",
    "\n"
   ]
  },
  {
   "cell_type": "code",
   "execution_count": 2,
   "id": "f2fb1d10",
   "metadata": {},
   "outputs": [
    {
     "name": "stdout",
     "output_type": "stream",
     "text": [
      "You got this!\n",
      "RT @DNeurosx: Sir PM @narendramodi !!\n",
      "\n",
      "It will be a collective shame of your government If this account is not withheld in India. https://t…\n"
     ]
    },
    {
     "data": {
      "text/plain": [
       "'for i in tweepy.Cursor(API.user_timeline, id  =  \"narendramodi\", tweet_mode=\"extended\").items(no_of_tweets):\\n    tweets.append(i.full_text)\\n    like.append(i.favorite_count)\\n    time.append(i.created_at)\\n    \\n\\n\\ndf = pd.DataFrame({\\'tweets\\':tweets,\\'likes\\':like,\\'time\\':time})\\nprint(df)\\n'"
      ]
     },
     "execution_count": 2,
     "metadata": {},
     "output_type": "execute_result"
    }
   ],
   "source": [
    "import tweepy\n",
    "from tweepy import OAuthHandler\n",
    "import pandas as pd\n",
    "import configparser\n",
    "import twint\n",
    "\n",
    "print(\"You got this!\")\n",
    "\n",
    "access_token ='2412156254-85iAnCTxqvZcdzVVlMQaqMdZTHskUjFSn6tuxUo'\n",
    "access_token_secret ='JLveU7ze2tTkKWavIp2l5SFlNlEeIL8RCB0olFEE4GEPc'\n",
    "consumer_key ='ASrWI31CKJFqbd8Ju3L9cLPzW'\n",
    "consumer_secret ='iDCNlFkzgt7DtPhcYIvzRThL7jr4xTONlzi7QwW7OFAaI9C6F2'\n",
    "#AAAAAAAAAAAAAAAAAAAAAD8rZQEAAAAA%2F9Q7yAcFhCq1EMwk3%2BnYZT1PP%2Fo%3DDdL2mKFmUaAFKuV5rJ20rKydjN5keKQLVpe7jPBV8acXYLCYqP\n",
    "auth = tweepy.OAuthHandler(consumer_key, consumer_secret)\n",
    "auth.set_access_token(access_token, access_token_secret)\n",
    "api = tweepy.API(auth)\n",
    "\n",
    "cursor=tweepy.Cursor(api.search_tweets,  q  =  \"narendramodi\", tweet_mode=\"extended\").items(1)\n",
    "for i in cursor:\n",
    "    print(i.full_text)\n",
    "   # API.user_timeline\n",
    "\n",
    "no_of_tweets = 100\n",
    "tweets =[]\n",
    "like =[]\n",
    "time=[]\n",
    "\n",
    "\"\"\"for i in tweepy.Cursor(API.user_timeline, id  =  \"narendramodi\", tweet_mode=\"extended\").items(no_of_tweets):\n",
    "    tweets.append(i.full_text)\n",
    "    like.append(i.favorite_count)\n",
    "    time.append(i.created_at)\n",
    "    \n",
    "\n",
    "\n",
    "df = pd.DataFrame({'tweets':tweets,'likes':like,'time':time})\n",
    "print(df)\n",
    "\"\"\""
   ]
  },
  {
   "cell_type": "code",
   "execution_count": null,
   "id": "23dc387d",
   "metadata": {},
   "outputs": [],
   "source": []
  }
 ],
 "metadata": {
  "kernelspec": {
   "display_name": "Python 3 (ipykernel)",
   "language": "python",
   "name": "python3"
  },
  "language_info": {
   "codemirror_mode": {
    "name": "ipython",
    "version": 3
   },
   "file_extension": ".py",
   "mimetype": "text/x-python",
   "name": "python",
   "nbconvert_exporter": "python",
   "pygments_lexer": "ipython3",
   "version": "3.9.7"
  }
 },
 "nbformat": 4,
 "nbformat_minor": 5
}
